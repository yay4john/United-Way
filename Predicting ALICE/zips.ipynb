{
 "cells": [
  {
   "cell_type": "markdown",
   "metadata": {},
   "source": [
    "WA school zip codes sourced from https://eds.ospi.k12.wa.us/DirectoryEDS.aspx"
   ]
  },
  {
   "cell_type": "code",
   "execution_count": 1,
   "metadata": {},
   "outputs": [],
   "source": [
    "# import packages\n",
    "import pandas as pd\n",
    "import glob"
   ]
  },
  {
   "cell_type": "code",
   "execution_count": 2,
   "metadata": {},
   "outputs": [
    {
     "name": "stderr",
     "output_type": "stream",
     "text": [
      "/var/folders/13/tb353hv16bg0qsrdngc6r2v40000gn/T/ipykernel_20238/967220189.py:6: SettingWithCopyWarning: \n",
      "A value is trying to be set on a copy of a slice from a DataFrame.\n",
      "Try using .loc[row_indexer,col_indexer] = value instead\n",
      "\n",
      "See the caveats in the documentation: https://pandas.pydata.org/pandas-docs/stable/user_guide/indexing.html#returning-a-view-versus-a-copy\n",
      "  zip['ZipCode'] = zip['ZipCode'].str.split('-').str[0]\n",
      "/var/folders/13/tb353hv16bg0qsrdngc6r2v40000gn/T/ipykernel_20238/967220189.py:9: SettingWithCopyWarning: \n",
      "A value is trying to be set on a copy of a slice from a DataFrame.\n",
      "Try using .loc[row_indexer,col_indexer] = value instead\n",
      "\n",
      "See the caveats in the documentation: https://pandas.pydata.org/pandas-docs/stable/user_guide/indexing.html#returning-a-view-versus-a-copy\n",
      "  zip['SchoolName_lower'] = zip['SchoolName'].str.lower()\n",
      "/var/folders/13/tb353hv16bg0qsrdngc6r2v40000gn/T/ipykernel_20238/967220189.py:10: SettingWithCopyWarning: \n",
      "A value is trying to be set on a copy of a slice from a DataFrame.\n",
      "Try using .loc[row_indexer,col_indexer] = value instead\n",
      "\n",
      "See the caveats in the documentation: https://pandas.pydata.org/pandas-docs/stable/user_guide/indexing.html#returning-a-view-versus-a-copy\n",
      "  zip['City_lower'] = zip['City'].str.lower()\n",
      "/var/folders/13/tb353hv16bg0qsrdngc6r2v40000gn/T/ipykernel_20238/967220189.py:11: SettingWithCopyWarning: \n",
      "A value is trying to be set on a copy of a slice from a DataFrame.\n",
      "Try using .loc[row_indexer,col_indexer] = value instead\n",
      "\n",
      "See the caveats in the documentation: https://pandas.pydata.org/pandas-docs/stable/user_guide/indexing.html#returning-a-view-versus-a-copy\n",
      "  zip['District_lower'] = zip['LEAName'].str.lower()\n"
     ]
    }
   ],
   "source": [
    "# load school data with zip codes\n",
    "zip_raw = pd.read_csv('/Users/jStrange/Library/CloudStorage/OneDrive-Personal/Data Science/Data/United Way/Other Data/Washington_School_Directory_20250109.csv')\n",
    "zip = zip_raw[['ZipCode', 'City', 'LEAName','SchoolName','GradeCategory']]\n",
    "\n",
    "# just need the 5 digit zip code\n",
    "zip['ZipCode'] = zip['ZipCode'].str.split('-').str[0]\n",
    "\n",
    "# make all strings lowercase\n",
    "zip['SchoolName_lower'] = zip['SchoolName'].str.lower()\n",
    "zip['City_lower'] = zip['City'].str.lower()\n",
    "zip['District_lower'] = zip['LEAName'].str.lower()\n",
    "# zip.head()"
   ]
  },
  {
   "cell_type": "code",
   "execution_count": 3,
   "metadata": {},
   "outputs": [],
   "source": [
    "# load fafsa data\n",
    "fafsa = pd.read_csv('/Users/jStrange/Library/CloudStorage/OneDrive-Personal/Data Science/Data/United Way/FAFSA/FAFSA Graduation Data.csv')\n",
    "\n",
    "# make all strings lowercase\n",
    "fafsa['SchoolName_lower'] = fafsa['Name'].str.lower()\n",
    "fafsa['City_lower'] = fafsa['City'].str.lower()\n",
    "fafsa['District_lower'] = fafsa['DistrictName'].str.lower()"
   ]
  },
  {
   "cell_type": "code",
   "execution_count": 4,
   "metadata": {},
   "outputs": [],
   "source": [
    "# Merge the dataframes on the lowercase names\n",
    "merged_df = pd.merge(fafsa, zip, left_on=['SchoolName_lower','City','District_lower'], right_on=['SchoolName_lower','City','District_lower'], how='inner')\n",
    "\n",
    "# filter to selected columns\n",
    "fafsa_zip = merged_df[['SchoolYear','As of Date','ZipCode','FinalCohort','Graduate','Submitted','Completed']]\n",
    "# fafsa_zip.head()\n",
    "\n",
    "# aggregate the data\n",
    "fafsa_zip_aggregated = fafsa_zip.groupby(['SchoolYear', 'As of Date', 'ZipCode']).sum().reset_index()\n",
    "# fafsa_zip_aggregated.head()"
   ]
  },
  {
   "cell_type": "code",
   "execution_count": 5,
   "metadata": {},
   "outputs": [],
   "source": [
    "fafsa_zip_aggregated.to_csv('/Users/jStrange/Library/CloudStorage/OneDrive-Personal/Data Science/Data/United Way/FAFSA/FAFSA_aggregated.csv')"
   ]
  },
  {
   "cell_type": "code",
   "execution_count": 6,
   "metadata": {},
   "outputs": [],
   "source": [
    "# load kindergarten readiness data\n",
    "kind = pd.read_csv('/Users/jStrange/Library/CloudStorage/OneDrive-Personal/Data Science/Data/United Way/Kindergarten Readiness/Kindergarten.csv')\n",
    "\n",
    "# Convert names to lowercase\n",
    "kind['SchoolName_lower'] = kind['SchoolName'].str.lower()\n",
    "kind['DistrictName_lower'] = kind['DistrictName'].str.lower()\n",
    "# kind.head()"
   ]
  },
  {
   "cell_type": "code",
   "execution_count": 7,
   "metadata": {},
   "outputs": [],
   "source": [
    "# Merge the dataframes on the lowercase names\n",
    "merged_kind_zip = pd.merge(kind, zip, left_on=['SchoolName_lower', 'DistrictName_lower'], right_on=['SchoolName_lower', 'District_lower'], how='inner')\n",
    "\n",
    "# select columns\n",
    "kind_zip = merged_kind_zip[['schoolyear','ZipCode','Numerator','Denominator']]\n",
    "\n",
    "# aggregate the data\n",
    "kind_zip_aggregated = kind_zip.groupby(['schoolyear', 'ZipCode']).sum().reset_index()\n",
    "# kind_zip_aggregated.head()"
   ]
  },
  {
   "cell_type": "code",
   "execution_count": 8,
   "metadata": {},
   "outputs": [],
   "source": [
    "kind_zip_aggregated.to_csv('/Users/jStrange/Library/CloudStorage/OneDrive-Personal/Data Science/Data/United Way/Kindergarten Readiness/kind_ready_agg.csv')"
   ]
  },
  {
   "cell_type": "code",
   "execution_count": 9,
   "metadata": {},
   "outputs": [],
   "source": [
    "# load ALICE data and select cols\n",
    "alice_raw = pd.read_csv('/Users/jStrange/Library/CloudStorage/OneDrive-Personal/Data Science/Data/United Way/ALICE/ALICE_zip.csv')\n",
    "alice = alice_raw[['Year','Zip Code','Households','Poverty Households','ALICE Households']]\n",
    "\n",
    "# aggregate the data... it should already be aggregated, but just in case\n",
    "alice_aggregated = alice.groupby(['Year', 'Zip Code']).sum().reset_index()\n",
    "# alice_aggregated.head()"
   ]
  },
  {
   "cell_type": "code",
   "execution_count": 10,
   "metadata": {},
   "outputs": [],
   "source": [
    "alice_aggregated.to_csv('/Users/jStrange/Library/CloudStorage/OneDrive-Personal/Data Science/Data/United Way/ALICE/ALICE_agg.csv')"
   ]
  },
  {
   "cell_type": "code",
   "execution_count": null,
   "metadata": {},
   "outputs": [
    {
     "data": {
      "text/html": [
       "<div>\n",
       "<style scoped>\n",
       "    .dataframe tbody tr th:only-of-type {\n",
       "        vertical-align: middle;\n",
       "    }\n",
       "\n",
       "    .dataframe tbody tr th {\n",
       "        vertical-align: top;\n",
       "    }\n",
       "\n",
       "    .dataframe thead th {\n",
       "        text-align: right;\n",
       "    }\n",
       "</style>\n",
       "<table border=\"1\" class=\"dataframe\">\n",
       "  <thead>\n",
       "    <tr style=\"text-align: right;\">\n",
       "      <th></th>\n",
       "      <th>SchoolYear</th>\n",
       "      <th>As of Date</th>\n",
       "      <th>ZipCode</th>\n",
       "      <th>FinalCohort</th>\n",
       "      <th>Graduate</th>\n",
       "      <th>Submitted</th>\n",
       "      <th>Completed</th>\n",
       "      <th>schoolyear</th>\n",
       "      <th>Numerator</th>\n",
       "      <th>Denominator</th>\n",
       "      <th>Year</th>\n",
       "      <th>Zip Code</th>\n",
       "      <th>Households</th>\n",
       "      <th>Poverty Households</th>\n",
       "      <th>ALICE Households</th>\n",
       "    </tr>\n",
       "  </thead>\n",
       "  <tbody>\n",
       "    <tr>\n",
       "      <th>0</th>\n",
       "      <td>2017.0</td>\n",
       "      <td>2016-01-31</td>\n",
       "      <td>98001</td>\n",
       "      <td>499.0</td>\n",
       "      <td>425.0</td>\n",
       "      <td>95.0</td>\n",
       "      <td>85.0</td>\n",
       "      <td>2013-14</td>\n",
       "      <td>71.0</td>\n",
       "      <td>218.0</td>\n",
       "      <td>2021.0</td>\n",
       "      <td>98001</td>\n",
       "      <td>11820.0</td>\n",
       "      <td>793.0</td>\n",
       "      <td>2067.0</td>\n",
       "    </tr>\n",
       "    <tr>\n",
       "      <th>1</th>\n",
       "      <td>2017.0</td>\n",
       "      <td>2016-01-31</td>\n",
       "      <td>98001</td>\n",
       "      <td>499.0</td>\n",
       "      <td>425.0</td>\n",
       "      <td>95.0</td>\n",
       "      <td>85.0</td>\n",
       "      <td>2014-15</td>\n",
       "      <td>63.0</td>\n",
       "      <td>206.0</td>\n",
       "      <td>2021.0</td>\n",
       "      <td>98001</td>\n",
       "      <td>11820.0</td>\n",
       "      <td>793.0</td>\n",
       "      <td>2067.0</td>\n",
       "    </tr>\n",
       "    <tr>\n",
       "      <th>2</th>\n",
       "      <td>2017.0</td>\n",
       "      <td>2016-01-31</td>\n",
       "      <td>98001</td>\n",
       "      <td>499.0</td>\n",
       "      <td>425.0</td>\n",
       "      <td>95.0</td>\n",
       "      <td>85.0</td>\n",
       "      <td>2015-16</td>\n",
       "      <td>170.0</td>\n",
       "      <td>392.0</td>\n",
       "      <td>2021.0</td>\n",
       "      <td>98001</td>\n",
       "      <td>11820.0</td>\n",
       "      <td>793.0</td>\n",
       "      <td>2067.0</td>\n",
       "    </tr>\n",
       "    <tr>\n",
       "      <th>3</th>\n",
       "      <td>2017.0</td>\n",
       "      <td>2016-01-31</td>\n",
       "      <td>98001</td>\n",
       "      <td>499.0</td>\n",
       "      <td>425.0</td>\n",
       "      <td>95.0</td>\n",
       "      <td>85.0</td>\n",
       "      <td>2016-17</td>\n",
       "      <td>201.0</td>\n",
       "      <td>438.0</td>\n",
       "      <td>2021.0</td>\n",
       "      <td>98001</td>\n",
       "      <td>11820.0</td>\n",
       "      <td>793.0</td>\n",
       "      <td>2067.0</td>\n",
       "    </tr>\n",
       "    <tr>\n",
       "      <th>4</th>\n",
       "      <td>2017.0</td>\n",
       "      <td>2016-01-31</td>\n",
       "      <td>98001</td>\n",
       "      <td>499.0</td>\n",
       "      <td>425.0</td>\n",
       "      <td>95.0</td>\n",
       "      <td>85.0</td>\n",
       "      <td>2017-18</td>\n",
       "      <td>193.0</td>\n",
       "      <td>413.0</td>\n",
       "      <td>2021.0</td>\n",
       "      <td>98001</td>\n",
       "      <td>11820.0</td>\n",
       "      <td>793.0</td>\n",
       "      <td>2067.0</td>\n",
       "    </tr>\n",
       "  </tbody>\n",
       "</table>\n",
       "</div>"
      ],
      "text/plain": [
       "   SchoolYear  As of Date ZipCode  FinalCohort  Graduate  Submitted  \\\n",
       "0      2017.0  2016-01-31   98001        499.0     425.0       95.0   \n",
       "1      2017.0  2016-01-31   98001        499.0     425.0       95.0   \n",
       "2      2017.0  2016-01-31   98001        499.0     425.0       95.0   \n",
       "3      2017.0  2016-01-31   98001        499.0     425.0       95.0   \n",
       "4      2017.0  2016-01-31   98001        499.0     425.0       95.0   \n",
       "\n",
       "   Completed schoolyear  Numerator  Denominator    Year Zip Code  Households  \\\n",
       "0       85.0    2013-14       71.0        218.0  2021.0    98001     11820.0   \n",
       "1       85.0    2014-15       63.0        206.0  2021.0    98001     11820.0   \n",
       "2       85.0    2015-16      170.0        392.0  2021.0    98001     11820.0   \n",
       "3       85.0    2016-17      201.0        438.0  2021.0    98001     11820.0   \n",
       "4       85.0    2017-18      193.0        413.0  2021.0    98001     11820.0   \n",
       "\n",
       "   Poverty Households  ALICE Households  \n",
       "0               793.0            2067.0  \n",
       "1               793.0            2067.0  \n",
       "2               793.0            2067.0  \n",
       "3               793.0            2067.0  \n",
       "4               793.0            2067.0  "
      ]
     },
     "execution_count": 12,
     "metadata": {},
     "output_type": "execute_result"
    }
   ],
   "source": [
    "# Ensure all ZipCode columns are of the same datatype before merging\n",
    "fafsa_zip_aggregated['ZipCode'] = fafsa_zip_aggregated['ZipCode'].astype(str)\n",
    "kind_zip_aggregated['ZipCode'] = kind_zip_aggregated['ZipCode'].astype(str)\n",
    "alice_aggregated['Zip Code'] = alice_aggregated['Zip Code'].astype(str)\n",
    "\n",
    "# Merge fafsa_zip_aggregated and kind_zip_aggregated on ZipCode\n",
    "merged_fafsa_kind = pd.merge(fafsa_zip_aggregated, kind_zip_aggregated, left_on='ZipCode', right_on='ZipCode', how='outer')\n",
    "\n",
    "# Merge the result with alice_aggregated on ZipCode\n",
    "merged_all = pd.merge(merged_fafsa_kind, alice_aggregated, left_on='ZipCode', right_on='Zip Code', how='outer')\n",
    "\n",
    "# Drop the duplicate Zip Code column\n",
    "merged_all = merged_all.drop(columns=['Zip Code'])\n",
    "\n",
    "# Display the merged dataframe\n",
    "merged_all.head()"
   ]
  },
  {
   "cell_type": "markdown",
   "metadata": {},
   "source": [
    "Need to also join on year, which means data types need to be changed. Also have to convert schoolyear\n",
    "As of Date... is there more than one per schoolyear? If so, need to take the max as of date per school year, then ditch that col"
   ]
  }
 ],
 "metadata": {
  "kernelspec": {
   "display_name": "Python 3",
   "language": "python",
   "name": "python3"
  },
  "language_info": {
   "codemirror_mode": {
    "name": "ipython",
    "version": 3
   },
   "file_extension": ".py",
   "mimetype": "text/x-python",
   "name": "python",
   "nbconvert_exporter": "python",
   "pygments_lexer": "ipython3",
   "version": "3.10.0"
  }
 },
 "nbformat": 4,
 "nbformat_minor": 2
}
