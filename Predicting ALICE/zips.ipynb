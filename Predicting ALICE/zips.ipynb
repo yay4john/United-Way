{
 "cells": [
  {
   "cell_type": "markdown",
   "metadata": {},
   "source": [
    "WA school zip codes sourced from https://eds.ospi.k12.wa.us/DirectoryEDS.aspx"
   ]
  },
  {
   "cell_type": "code",
   "execution_count": 8,
   "metadata": {},
   "outputs": [],
   "source": [
    "# import packages\n",
    "import pandas as pd\n",
    "import glob"
   ]
  },
  {
   "cell_type": "code",
   "execution_count": 9,
   "metadata": {},
   "outputs": [],
   "source": [
    "fafsa = pd.read_csv('/Users/jStrange/Library/CloudStorage/OneDrive-Personal/Data Science/Data/United Way/FAFSA/FAFSA Graduation Data.csv')\n",
    "# fafsa.head()"
   ]
  },
  {
   "cell_type": "code",
   "execution_count": 10,
   "metadata": {},
   "outputs": [
    {
     "data": {
      "text/html": [
       "<div>\n",
       "<style scoped>\n",
       "    .dataframe tbody tr th:only-of-type {\n",
       "        vertical-align: middle;\n",
       "    }\n",
       "\n",
       "    .dataframe tbody tr th {\n",
       "        vertical-align: top;\n",
       "    }\n",
       "\n",
       "    .dataframe thead th {\n",
       "        text-align: right;\n",
       "    }\n",
       "</style>\n",
       "<table border=\"1\" class=\"dataframe\">\n",
       "  <thead>\n",
       "    <tr style=\"text-align: right;\">\n",
       "      <th></th>\n",
       "      <th>Unnamed: 0</th>\n",
       "      <th>schoolyear</th>\n",
       "      <th>County</th>\n",
       "      <th>DistrictName</th>\n",
       "      <th>SchoolName</th>\n",
       "      <th>Percent</th>\n",
       "    </tr>\n",
       "  </thead>\n",
       "  <tbody>\n",
       "    <tr>\n",
       "      <th>0</th>\n",
       "      <td>0</td>\n",
       "      <td>2014-15</td>\n",
       "      <td>Adams</td>\n",
       "      <td>Othello School District</td>\n",
       "      <td>LUTACAGA ELEMENTARY</td>\n",
       "      <td>0.05376</td>\n",
       "    </tr>\n",
       "    <tr>\n",
       "      <th>1</th>\n",
       "      <td>1</td>\n",
       "      <td>2014-15</td>\n",
       "      <td>Adams</td>\n",
       "      <td>Othello School District</td>\n",
       "      <td>HIAWATHA ELEMENTARY SCHOOL</td>\n",
       "      <td>0.32558</td>\n",
       "    </tr>\n",
       "    <tr>\n",
       "      <th>2</th>\n",
       "      <td>2</td>\n",
       "      <td>2014-15</td>\n",
       "      <td>Adams</td>\n",
       "      <td>Lind School District</td>\n",
       "      <td>LIND ELEMENTARY SCHOOL</td>\n",
       "      <td>0.92857</td>\n",
       "    </tr>\n",
       "    <tr>\n",
       "      <th>3</th>\n",
       "      <td>3</td>\n",
       "      <td>2014-15</td>\n",
       "      <td>Asotin</td>\n",
       "      <td>Clarkston School District</td>\n",
       "      <td>PARKWAY ELEMENTARY</td>\n",
       "      <td>0.42553</td>\n",
       "    </tr>\n",
       "    <tr>\n",
       "      <th>4</th>\n",
       "      <td>4</td>\n",
       "      <td>2014-15</td>\n",
       "      <td>Asotin</td>\n",
       "      <td>Clarkston School District</td>\n",
       "      <td>GRANTHAM ELEMENTARY</td>\n",
       "      <td>0.24390</td>\n",
       "    </tr>\n",
       "  </tbody>\n",
       "</table>\n",
       "</div>"
      ],
      "text/plain": [
       "   Unnamed: 0 schoolyear  County               DistrictName  \\\n",
       "0           0    2014-15   Adams    Othello School District   \n",
       "1           1    2014-15   Adams    Othello School District   \n",
       "2           2    2014-15   Adams       Lind School District   \n",
       "3           3    2014-15  Asotin  Clarkston School District   \n",
       "4           4    2014-15  Asotin  Clarkston School District   \n",
       "\n",
       "                   SchoolName  Percent  \n",
       "0         LUTACAGA ELEMENTARY  0.05376  \n",
       "1  HIAWATHA ELEMENTARY SCHOOL  0.32558  \n",
       "2      LIND ELEMENTARY SCHOOL  0.92857  \n",
       "3          PARKWAY ELEMENTARY  0.42553  \n",
       "4         GRANTHAM ELEMENTARY  0.24390  "
      ]
     },
     "execution_count": 10,
     "metadata": {},
     "output_type": "execute_result"
    }
   ],
   "source": [
    "kind = pd.read_csv('/Users/jStrange/Library/CloudStorage/OneDrive-Personal/Data Science/Data/United Way/Kindergarten Readiness/Kindergarten.csv')\n",
    "kind.head()"
   ]
  },
  {
   "cell_type": "code",
   "execution_count": 11,
   "metadata": {},
   "outputs": [
    {
     "data": {
      "text/html": [
       "<div>\n",
       "<style scoped>\n",
       "    .dataframe tbody tr th:only-of-type {\n",
       "        vertical-align: middle;\n",
       "    }\n",
       "\n",
       "    .dataframe tbody tr th {\n",
       "        vertical-align: top;\n",
       "    }\n",
       "\n",
       "    .dataframe thead th {\n",
       "        text-align: right;\n",
       "    }\n",
       "</style>\n",
       "<table border=\"1\" class=\"dataframe\">\n",
       "  <thead>\n",
       "    <tr style=\"text-align: right;\">\n",
       "      <th></th>\n",
       "      <th>Unnamed: 0</th>\n",
       "      <th>Year</th>\n",
       "      <th>Zip Code</th>\n",
       "      <th>Households</th>\n",
       "      <th>Poverty Households</th>\n",
       "      <th>ALICE Households</th>\n",
       "    </tr>\n",
       "  </thead>\n",
       "  <tbody>\n",
       "    <tr>\n",
       "      <th>0</th>\n",
       "      <td>780</td>\n",
       "      <td>2021</td>\n",
       "      <td>98001</td>\n",
       "      <td>11820</td>\n",
       "      <td>793</td>\n",
       "      <td>2067</td>\n",
       "    </tr>\n",
       "    <tr>\n",
       "      <th>1</th>\n",
       "      <td>781</td>\n",
       "      <td>2021</td>\n",
       "      <td>98002</td>\n",
       "      <td>14012</td>\n",
       "      <td>1866</td>\n",
       "      <td>5176</td>\n",
       "    </tr>\n",
       "    <tr>\n",
       "      <th>2</th>\n",
       "      <td>782</td>\n",
       "      <td>2021</td>\n",
       "      <td>98003</td>\n",
       "      <td>18988</td>\n",
       "      <td>2565</td>\n",
       "      <td>6380</td>\n",
       "    </tr>\n",
       "    <tr>\n",
       "      <th>3</th>\n",
       "      <td>783</td>\n",
       "      <td>2021</td>\n",
       "      <td>98004</td>\n",
       "      <td>18125</td>\n",
       "      <td>838</td>\n",
       "      <td>2250</td>\n",
       "    </tr>\n",
       "    <tr>\n",
       "      <th>4</th>\n",
       "      <td>784</td>\n",
       "      <td>2021</td>\n",
       "      <td>98005</td>\n",
       "      <td>8732</td>\n",
       "      <td>691</td>\n",
       "      <td>1177</td>\n",
       "    </tr>\n",
       "  </tbody>\n",
       "</table>\n",
       "</div>"
      ],
      "text/plain": [
       "   Unnamed: 0  Year  Zip Code  Households  Poverty Households  \\\n",
       "0         780  2021     98001       11820                 793   \n",
       "1         781  2021     98002       14012                1866   \n",
       "2         782  2021     98003       18988                2565   \n",
       "3         783  2021     98004       18125                 838   \n",
       "4         784  2021     98005        8732                 691   \n",
       "\n",
       "   ALICE Households  \n",
       "0              2067  \n",
       "1              5176  \n",
       "2              6380  \n",
       "3              2250  \n",
       "4              1177  "
      ]
     },
     "execution_count": 11,
     "metadata": {},
     "output_type": "execute_result"
    }
   ],
   "source": [
    "alice = pd.read_csv('/Users/jStrange/Library/CloudStorage/OneDrive-Personal/Data Science/Data/United Way/ALICE/ALICE_zip.csv')\n",
    "alice.head()"
   ]
  },
  {
   "cell_type": "code",
   "execution_count": 12,
   "metadata": {},
   "outputs": [],
   "source": [
    "zip_raw = pd.read_csv('/Users/jStrange/Library/CloudStorage/OneDrive-Personal/Data Science/Data/United Way/Other Data/Washington_School_Directory_20250109.csv')\n",
    "# zip_raw.head()"
   ]
  },
  {
   "cell_type": "code",
   "execution_count": 13,
   "metadata": {},
   "outputs": [
    {
     "name": "stderr",
     "output_type": "stream",
     "text": [
      "/var/folders/13/tb353hv16bg0qsrdngc6r2v40000gn/T/ipykernel_19012/1958076388.py:3: SettingWithCopyWarning: \n",
      "A value is trying to be set on a copy of a slice from a DataFrame.\n",
      "Try using .loc[row_indexer,col_indexer] = value instead\n",
      "\n",
      "See the caveats in the documentation: https://pandas.pydata.org/pandas-docs/stable/user_guide/indexing.html#returning-a-view-versus-a-copy\n",
      "  zip['ZipCode'] = zip['ZipCode'].str.split('-').str[0]\n"
     ]
    },
    {
     "data": {
      "text/html": [
       "<div>\n",
       "<style scoped>\n",
       "    .dataframe tbody tr th:only-of-type {\n",
       "        vertical-align: middle;\n",
       "    }\n",
       "\n",
       "    .dataframe tbody tr th {\n",
       "        vertical-align: top;\n",
       "    }\n",
       "\n",
       "    .dataframe thead th {\n",
       "        text-align: right;\n",
       "    }\n",
       "</style>\n",
       "<table border=\"1\" class=\"dataframe\">\n",
       "  <thead>\n",
       "    <tr style=\"text-align: right;\">\n",
       "      <th></th>\n",
       "      <th>ZipCode</th>\n",
       "      <th>City</th>\n",
       "      <th>LEAName</th>\n",
       "      <th>SchoolName</th>\n",
       "      <th>GradeCategory</th>\n",
       "    </tr>\n",
       "  </thead>\n",
       "  <tbody>\n",
       "    <tr>\n",
       "      <th>0</th>\n",
       "      <td>99371</td>\n",
       "      <td>Washtucna</td>\n",
       "      <td>Washtucna School District</td>\n",
       "      <td>Washtucna Elementary/High School</td>\n",
       "      <td>PK-12</td>\n",
       "    </tr>\n",
       "    <tr>\n",
       "      <th>1</th>\n",
       "      <td>99105</td>\n",
       "      <td>Benge</td>\n",
       "      <td>Benge School District</td>\n",
       "      <td>Benge Elementary</td>\n",
       "      <td>Elementary School</td>\n",
       "    </tr>\n",
       "    <tr>\n",
       "      <th>2</th>\n",
       "      <td>99344</td>\n",
       "      <td>Othello</td>\n",
       "      <td>Othello School District</td>\n",
       "      <td>Lutacaga Elementary</td>\n",
       "      <td>Elementary School</td>\n",
       "    </tr>\n",
       "    <tr>\n",
       "      <th>3</th>\n",
       "      <td>99344</td>\n",
       "      <td>Othello</td>\n",
       "      <td>Othello School District</td>\n",
       "      <td>Hiawatha Elementary School</td>\n",
       "      <td>Elementary School</td>\n",
       "    </tr>\n",
       "    <tr>\n",
       "      <th>4</th>\n",
       "      <td>99344</td>\n",
       "      <td>Othello</td>\n",
       "      <td>Othello School District</td>\n",
       "      <td>Othello High School</td>\n",
       "      <td>High School</td>\n",
       "    </tr>\n",
       "  </tbody>\n",
       "</table>\n",
       "</div>"
      ],
      "text/plain": [
       "  ZipCode       City                    LEAName  \\\n",
       "0   99371  Washtucna  Washtucna School District   \n",
       "1   99105      Benge      Benge School District   \n",
       "2   99344    Othello    Othello School District   \n",
       "3   99344    Othello    Othello School District   \n",
       "4   99344    Othello    Othello School District   \n",
       "\n",
       "                         SchoolName      GradeCategory  \n",
       "0  Washtucna Elementary/High School              PK-12  \n",
       "1                  Benge Elementary  Elementary School  \n",
       "2               Lutacaga Elementary  Elementary School  \n",
       "3        Hiawatha Elementary School  Elementary School  \n",
       "4               Othello High School        High School  "
      ]
     },
     "execution_count": 13,
     "metadata": {},
     "output_type": "execute_result"
    }
   ],
   "source": [
    "zip = zip_raw[['ZipCode', 'City', 'LEAName','SchoolName','GradeCategory']]\n",
    "\n",
    "zip['ZipCode'] = zip['ZipCode'].str.split('-').str[0]\n",
    "zip.head()"
   ]
  },
  {
   "cell_type": "code",
   "execution_count": null,
   "metadata": {
    "vscode": {
     "languageId": "lua"
    }
   },
   "outputs": [],
   "source": [
    "# Convert school names to lowercase in both dataframes\n",
    "fafsa['SchoolName_lower'] = fafsa['Name'].str.lower()\n",
    "zip['SchoolName_lower'] = zip['SchoolName'].str.lower()\n",
    "\n",
    "fafsa['City_lower'] = fafsa['City'].str.lower()\n",
    "zip['City_lower'] = zip['City'].str.lower()\n",
    "\n",
    "fafsa['District_lower'] = fafsa['DistrictName'].str.lower()\n",
    "zip['District_lower'] = zip['LEAName'].str.lower()\n",
    "\n",
    "# Merge the dataframes on the lowercase school names\n",
    "merged_df = pd.merge(fafsa, zip, left_on=['SchoolName_lower','City','District_lower'], right_on=['SchoolName_lower','City','District_lower'], how='inner')\n",
    "\n",
    "# Drop the temporary lowercase columns\n",
    "merged_df.drop(columns=['SchoolName_lower','City','District_lower'], inplace=True)\n",
    "\n",
    "merged_df.head()"
   ]
  },
  {
   "cell_type": "code",
   "execution_count": 7,
   "metadata": {},
   "outputs": [
    {
     "ename": "NameError",
     "evalue": "name 'merged_df' is not defined",
     "output_type": "error",
     "traceback": [
      "\u001b[0;31m---------------------------------------------------------------------------\u001b[0m",
      "\u001b[0;31mNameError\u001b[0m                                 Traceback (most recent call last)",
      "Cell \u001b[0;32mIn[7], line 1\u001b[0m\n\u001b[0;32m----> 1\u001b[0m fafsa_zip \u001b[38;5;241m=\u001b[39m \u001b[43mmerged_df\u001b[49m[[\u001b[38;5;124m'\u001b[39m\u001b[38;5;124mSchoolYear\u001b[39m\u001b[38;5;124m'\u001b[39m,\u001b[38;5;124m'\u001b[39m\u001b[38;5;124mAs of Date\u001b[39m\u001b[38;5;124m'\u001b[39m,\u001b[38;5;124m'\u001b[39m\u001b[38;5;124mZipCode\u001b[39m\u001b[38;5;124m'\u001b[39m,\u001b[38;5;124m'\u001b[39m\u001b[38;5;124mFinalCohort\u001b[39m\u001b[38;5;124m'\u001b[39m,\u001b[38;5;124m'\u001b[39m\u001b[38;5;124mGraduate\u001b[39m\u001b[38;5;124m'\u001b[39m,\u001b[38;5;124m'\u001b[39m\u001b[38;5;124mSubmitted\u001b[39m\u001b[38;5;124m'\u001b[39m,\u001b[38;5;124m'\u001b[39m\u001b[38;5;124mCompleted\u001b[39m\u001b[38;5;124m'\u001b[39m]]\n\u001b[1;32m      2\u001b[0m fafsa_zip\u001b[38;5;241m.\u001b[39mhead()\n",
      "\u001b[0;31mNameError\u001b[0m: name 'merged_df' is not defined"
     ]
    }
   ],
   "source": [
    "fafsa_zip = merged_df[['SchoolYear','As of Date','ZipCode','FinalCohort','Graduate','Submitted','Completed']]\n",
    "fafsa_zip.head()"
   ]
  },
  {
   "cell_type": "code",
   "execution_count": null,
   "metadata": {},
   "outputs": [],
   "source": [
    "fafsa_zip_aggregated = fafsa_zip.groupby(['SchoolYear', 'As of Date', 'ZipCode']).sum().reset_index()\n",
    "fafsa_zip_aggregated.head()"
   ]
  },
  {
   "cell_type": "code",
   "execution_count": 29,
   "metadata": {},
   "outputs": [],
   "source": [
    "fafsa_zip_aggregated.to_csv('/Users/jStrange/Library/CloudStorage/OneDrive-Personal/Data Science/Data/United Way/FAFSA/FAFSA_aggregated.csv')"
   ]
  },
  {
   "cell_type": "code",
   "execution_count": null,
   "metadata": {
    "vscode": {
     "languageId": "lua"
    }
   },
   "outputs": [],
   "source": [
    "# Convert county and district names to lowercase in both dataframes\n",
    "kind['County_lower'] = kind['County'].str.lower()\n",
    "kind['DistrictName_lower'] = kind['DistrictName'].str.lower()\n",
    "\n",
    "zip['County_lower'] = zip['City'].str.lower()  # Assuming 'City' in zip corresponds to 'County' in kind\n",
    "zip['DistrictName_lower'] = zip['LEAName'].str.lower()\n",
    "\n",
    "# Merge the dataframes on the lowercase county and district names\n",
    "merged_kind_zip = pd.merge(kind, zip, left_on=['County_lower', 'DistrictName_lower'], right_on=['County_lower', 'DistrictName_lower'], how='inner')\n",
    "\n",
    "# Drop the temporary lowercase columns\n",
    "merged_kind_zip.drop(columns=['County_lower', 'DistrictName_lower'], inplace=True)\n",
    "\n",
    "merged_kind_zip.head()"
   ]
  }
 ],
 "metadata": {
  "kernelspec": {
   "display_name": "Python 3",
   "language": "python",
   "name": "python3"
  },
  "language_info": {
   "codemirror_mode": {
    "name": "ipython",
    "version": 3
   },
   "file_extension": ".py",
   "mimetype": "text/x-python",
   "name": "python",
   "nbconvert_exporter": "python",
   "pygments_lexer": "ipython3",
   "version": "3.10.0"
  }
 },
 "nbformat": 4,
 "nbformat_minor": 2
}
